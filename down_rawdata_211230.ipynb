{
 "cells": [
  {
   "cell_type": "markdown",
   "metadata": {},
   "source": [
    " ▼ Download Raw Data"
   ]
  },
  {
   "cell_type": "code",
   "execution_count": 1,
   "metadata": {},
   "outputs": [],
   "source": [
    "import json\n",
    "from PIL import Image\n",
    "import io\n",
    "import requests\n",
    "import os\n",
    "from datetime import datetime,timedelta\n",
    "import csv\n",
    "import pandas as pd\n",
    "import time\n",
    "\n",
    "def raw_data(sensorID):\n",
    "    now = datetime.now() \n",
    "    \n",
    "    headers = {\n",
    "    'Authorization': ''\n",
    "    }\n",
    "    \n",
    "    batd=requests.get('http://3.34.245.33/api/sensor/data?sensorID=' + sensorID, headers=headers, timeout = 1000) #get방식으로 배터리데이터 수집\n",
    "    print(batd)\n",
    "    \n",
    "    with open(sensorID + '.json','w') as j:\n",
    "        json.dump(batd.json(),j,indent =4)\n",
    "            \n",
    "    inputFile = pd.read_json(sensorID + '.json')\n",
    "    inputFile.to_csv(sensorID + '.csv')\n",
    "    \n",
    "    return \n"
   ]
  },
  {
   "cell_type": "code",
   "execution_count": 2,
   "metadata": {},
   "outputs": [
    {
     "name": "stdout",
     "output_type": "stream",
     "text": [
      "<Response [200]>\n"
     ]
    }
   ],
   "source": [
    "raw_data('f008d1709732')"
   ]
  },
  {
   "cell_type": "code",
   "execution_count": null,
   "metadata": {},
   "outputs": [],
   "source": []
  }
 ],
 "metadata": {
  "kernelspec": {
   "display_name": "Python 3",
   "language": "python",
   "name": "python3"
  },
  "language_info": {
   "codemirror_mode": {
    "name": "ipython",
    "version": 3
   },
   "file_extension": ".py",
   "mimetype": "text/x-python",
   "name": "python",
   "nbconvert_exporter": "python",
   "pygments_lexer": "ipython3",
   "version": "3.7.4"
  }
 },
 "nbformat": 4,
 "nbformat_minor": 4
}
