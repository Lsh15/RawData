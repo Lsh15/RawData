{
 "cells": [
  {
   "cell_type": "markdown",
   "metadata": {},
   "source": [
    " ▼ Download Raw Data"
   ]
  },
  {
   "cell_type": "code",
   "execution_count": 1,
   "metadata": {},
   "outputs": [],
   "source": [
    "import json\n",
    "from PIL import Image\n",
    "import io\n",
    "import requests\n",
    "import os\n",
    "from datetime import datetime,timedelta\n",
    "import csv\n",
    "import pandas as pd\n",
    "import time\n",
    "\n",
 "def raw_data_hce(sensorID):\n",
    "    now = datetime.now() \n",
    "\n",
    "    skip = 0\n",
    "    while True :\n",
    "        headers = {\n",
    "            'Authorization': ''\n",
    "        }\n",
    "\n",
    "        batd=requests.get('http://52.78.58.84/api/sensor/data?sensorID=' + sensorID + '&limit=30000&skip=' + str(skip), headers=headers) #get방식으로 배터리데이터 수집\n",
    "        print(batd)\n",
    "\n",
    "        if len(batd.json()) == 0:\n",
    "            print(len(batd.json()))\n",
    "            break\n",
    "        else :\n",
    "            print(len(batd.json()))\n",
    "\n",
    "        with open(sensorID + '.json','w') as j:\n",
    "            json.dump(batd.json(),j,indent =4)\n",
    "\n",
    "        if skip == 0 :\n",
    "            inputFile = pd.read_json(sensorID + '.json')\n",
    "            inputFile.to_csv(sensorID + '.csv',mode = 'a',header = True)\n",
    "        else :\n",
    "            inputFile = pd.read_json(sensorID + '.json')\n",
    "            inputFile.to_csv(sensorID + '.csv',mode = 'a',header = False)\n",
    "\n",
    "        skip = skip + 1\n",
    "\n",
    "        return\n",
    "    \n",
    "headers = {\n",
    "    'Authorization': ''\n",
    "}\n",
    "    \n",
    "sensorName = requests.get('http://52.78.58.84/api/sensor', headers=headers)\n",
    "\n",
    "for i in range(len(sensorName.json())) :\n",
    "    print(sensorName.json()[i]['_id'])\n",
    "    \n",
    "    if os.path.exists(sensorName.json()[i]['_id'] + '.csv'): # 중복된 파일 있으면 삭제\n",
    "        os.remove(sensorName.json()[i]['_id'] + '.csv')\n",
    "        time.sleep(0.5)\n",
    "    else :\n",
    "        pass\n",
    "\n",
    "    raw_data_hce(sensorName.json()[i]['_id'])\n",
    "        "
   ]
  },
  {
   "cell_type": "code",
   "execution_count": 2,
   "metadata": {},
   "outputs": [
    {
     "name": "stdout",
     "output_type": "stream",
     "text": [
      "<Response [200]>\n"
     ]
    }
   ],
   "source": [
    "raw_data('f008d1709732')"
   ]
  },
  {
   "cell_type": "code",
   "execution_count": null,
   "metadata": {},
   "outputs": [],
   "source": []
  }
 ],
 "metadata": {
  "kernelspec": {
   "display_name": "Python 3",
   "language": "python",
   "name": "python3"
  },
  "language_info": {
   "codemirror_mode": {
    "name": "ipython",
    "version": 3
   },
   "file_extension": ".py",
   "mimetype": "text/x-python",
   "name": "python",
   "nbconvert_exporter": "python",
   "pygments_lexer": "ipython3",
   "version": "3.7.4"
  }
 },
 "nbformat": 4,
 "nbformat_minor": 4
}
